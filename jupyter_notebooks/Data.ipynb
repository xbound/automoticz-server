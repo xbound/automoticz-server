{
 "cells": [
  {
   "cell_type": "code",
   "execution_count": 8,
   "metadata": {},
   "outputs": [
    {
     "name": "stderr",
     "output_type": "stream",
     "text": [
      "/home/devaerial/Ingenerka/Source/automoticz-server/.venv/lib/python3.5/site-packages/dynaconf/loaders/base.py:95: YAMLLoadWarning: calling yaml.load() without Loader=... is deprecated, as the default Loader is unsafe. Please read https://msg.pyyaml.org/load for full details.\n",
      "  'ENCODING_FOR_DYNACONF', 'utf-8'\n"
     ]
    }
   ],
   "source": [
    "from pprint import pprint as print\n",
    "\n",
    "import pandas as pd\n",
    "import matplotlib.pyplot as plt\n",
    "\n",
    "from automoticz.app import create_app\n",
    "\n",
    "app = create_app()"
   ]
  },
  {
   "cell_type": "code",
   "execution_count": 15,
   "metadata": {},
   "outputs": [
    {
     "name": "stderr",
     "output_type": "stream",
     "text": [
      "/home/devaerial/Ingenerka/Source/automoticz-server/.venv/lib/python3.5/site-packages/dynaconf/loaders/base.py:95: YAMLLoadWarning: calling yaml.load() without Loader=... is deprecated, as the default Loader is unsafe. Please read https://msg.pyyaml.org/load for full details.\n",
      "  'ENCODING_FOR_DYNACONF', 'utf-8'\n"
     ]
    },
    {
     "data": {
      "text/plain": [
       "'62'"
      ]
     },
     "execution_count": 15,
     "metadata": {},
     "output_type": "execute_result"
    }
   ],
   "source": [
    "from automoticz.domoticz.functions import *\n",
    "\n",
    "app = create_app()\n",
    "with app.app_context():\n",
    "    rooms = get_all_rooms()['result']\n",
    "rooms\n",
    "main_room_idx = rooms[6]['idx'] # 8\n",
    "main_room_idx\n",
    "\n",
    "with app.app_context():\n",
    "    devices = get_all_devices_in_room(main_room_idx)['result']\n",
    "device_idx = devices[4]['idx'] # 62\n",
    "device_idx\n",
    "\n",
    "with app.app_context():\n",
    "    "
   ]
  },
  {
   "cell_type": "code",
   "execution_count": 16,
   "metadata": {},
   "outputs": [],
   "source": [
    "# from automoticz.utils.analitics import *\n",
    "\n",
    "# temp_hum_idx_main_room = 33\n",
    "# outside_termo_idx = 11\n",
    "# with app.app_context():\n",
    "#     out_df = get_conditions_history(outside_termo_idx)\n",
    "#     room_df = get_conditions_history(temp_hum_idx_main_room)\n",
    "room_df.to_csv('main_room_10-17_03.csv')"
   ]
  }
 ],
 "metadata": {
  "kernelspec": {
   "display_name": "Python 3",
   "language": "python",
   "name": "python3"
  },
  "language_info": {
   "codemirror_mode": {
    "name": "ipython",
    "version": 3
   },
   "file_extension": ".py",
   "mimetype": "text/x-python",
   "name": "python",
   "nbconvert_exporter": "python",
   "pygments_lexer": "ipython3",
   "version": "3.5.2"
  }
 },
 "nbformat": 4,
 "nbformat_minor": 2
}
