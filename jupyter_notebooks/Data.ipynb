{
 "cells": [
  {
   "cell_type": "code",
   "execution_count": null,
   "metadata": {},
   "outputs": [],
   "source": [
    "from pprint import pprint as print\n",
    "\n",
    "import pandas as pd\n",
    "import matplotlib.pyplot as plt\n",
    "\n",
    "from automoticz.app import create_app\n",
    "\n",
    "app = create_app()"
   ]
  },
  {
   "cell_type": "code",
   "execution_count": null,
   "metadata": {},
   "outputs": [],
   "source": [
    "from automoticz.domoticz.functions import *\n",
    "\n",
    "app = create_app()\n",
    "with app.app_context():\n",
    "    rooms = get_all_rooms()['result']\n",
    "rooms\n",
    "main_room_idx = rooms[6]['idx'] # 8\n",
    "main_room_idx\n",
    "\n",
    "with app.app_context():\n",
    "    devices = get_all_devices_in_room(main_room_idx)['result']\n",
    "device_idx = devices[4]['idx'] # 62\n",
    "device_idx\n",
    "\n",
    "# with app.app_context():\n",
    "    "
   ]
  },
  {
   "cell_type": "code",
   "execution_count": null,
   "metadata": {},
   "outputs": [],
   "source": [
    "from automoticz.utils.analitics import *\n",
    "\n",
    "temp_hum_idx_main_room = 33\n",
    "outside_termo_idx = 11\n",
    "with app.app_context():\n",
    "    out_df = get_conditions_history(outside_termo_idx)\n",
    "    room_df = get_conditions_history(temp_hum_idx_main_room)\n",
    "room_df.to_csv('main_room_10-17_03.csv', mode='a', header=False)"
   ]
  },
  {
   "cell_type": "code",
   "execution_count": null,
   "metadata": {},
   "outputs": [],
   "source": [
    "from automoticz.utils.analitics import *\n",
    "import matplotlib.pyplot as plt\n",
    "\n",
    "room_df = pd.read_csv('main_room_10-17_03.csv')\n",
    "room_df = prepare_conditions_history(room_df)\n",
    "out_df = pd.read_csv('out_temp_10-18_03.csv')\n",
    "out_df = prepare_conditions_history(out_df)\n",
    "# room_df\n",
    "\n",
    "\n",
    "df = pd.merge(room_df, out_df, how='outer', on=['date', 'time'], suffixes=['_in', '_out'])\n",
    "# fig, axes = plt.subplots()\n",
    "\n",
    "# room_df.plot(ax=axes[0,0], use_index=True)\n",
    "# out_df.plot(ax=axes[0,1], use_index=True)\n",
    "(len(room_df)+len(out_df))-len(df)"
   ]
  }
 ],
 "metadata": {
  "kernelspec": {
   "display_name": "Python 3",
   "language": "python",
   "name": "python3"
  },
  "language_info": {
   "codemirror_mode": {
    "name": "ipython",
    "version": 3
   },
   "file_extension": ".py",
   "mimetype": "text/x-python",
   "name": "python",
   "nbconvert_exporter": "python",
   "pygments_lexer": "ipython3",
   "version": "3.5.6"
  }
 },
 "nbformat": 4,
 "nbformat_minor": 2
}
